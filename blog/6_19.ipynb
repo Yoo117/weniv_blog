{
  "nbformat": 4,
  "nbformat_minor": 0,
  "metadata": {
    "colab": {
      "provenance": []
    },
    "kernelspec": {
      "name": "python3",
      "display_name": "Python 3"
    },
    "language_info": {
      "name": "python"
    }
  },
  "cells": [
    {
      "cell_type": "markdown",
      "source": [
        "#1. Colab 단축키\n",
        "\n",
        "##1.1 실행\n",
        "\n",
        "* *crtl + enter -> 실행\n",
        "\n",
        "* *shift + enter -> 실행 후 다음 칸으로 이동\n",
        "\n",
        "* *alt + enter -> 해당 셀 실행 + 코드 블록 하단 추가\n",
        "\n",
        "* ctrl + M + Z -> 실행 취소\n",
        "\n",
        "\n",
        "##1.2 셀\n",
        "\n",
        "* ctrl + M + A -> 코드 셀 위에 삽입\n",
        "\n",
        "* ctrl + M + B -> 코드 셀 아래 삽입\n",
        "\n",
        "* ctrl + M + D -> 셀 지우기\n",
        "\n",
        "* ctrl + M + Y -> 코드 셀로 변경\n",
        "\n",
        "* ctrl + M + M -> 마크다운 셀로 변경\n",
        "\n",
        "\n",
        "##1.3 수정\n",
        "\n",
        "* ctrl + alt + 화살표 아래키 -> 동시 수정\n",
        "\n",
        "* *ctrl + alt + 화살표 위아래키 -> 위아래 동시 수정\n",
        "\n",
        "* *ctrl + D -> 같은 단어 찾아 동시 수정\n",
        "\n",
        "* ctrl + shift + L -> 동일 단어를 전체로 찾아 동시 수정\n",
        "\n",
        "\n",
        "##1.4 기타\n",
        "\n",
        "* alt + shift + 화살표 위아래키 -> 해당내용을 위나 아래로 복사해서 붙여넣기\n",
        "\n",
        "* alt + 화살표 위아래 -> 해당내용을 위나 아래로 보내기\n",
        "\n",
        "* *home, end -> 문장의 양 끝\n",
        "\n",
        "* *ctrl + / ->  주석\n",
        "\n",
        "* *shift + del -> 한 줄 지우기\n",
        "\n",
        "* *tab, ctrl + ] -> 들여쓰기\n",
        "\n",
        "* *shift + tab, ctrl + [ -> 내어쓰기\n",
        "---\n",
        "\n",
        "#2. 마크다운\n",
        "##2.1 제목\n",
        "\n",
        "```\n",
        "#제목 1\n",
        "##제목 2\n",
        "###제목 3\n",
        "...\n",
        "\n",
        "(점점 작아짐, 6개까지 사용 가능)\n",
        "```\n",
        "#제목 1\n",
        "##제목 2\n",
        "###제목 3\n",
        "##2.2 강조체\n",
        "\n",
        "```\n",
        "*강조* _강조_ (기울임체)\n",
        "\n",
        "**강조**__강조__ (강조체)\n",
        "```\n",
        "*강조* _강조_ (기울임체)\n",
        "\n",
        "**강조**__강조__ (강조체)\n",
        "\n",
        "##2.3 목록\n",
        "```\n",
        "1. 첫번째 목록\n",
        "2. 두번째 목록\n",
        "* 순서없는 목록 1\n",
        "* 순서없는 목록 2\n",
        "```\n",
        "1. 첫번째 목록\n",
        "2. 두번째 목록\n",
        "* 순서없는 목록 1\n",
        "* 순서없는 목록 2\n",
        "\n",
        "##2.4 링크\n",
        "```\n",
        "[설명란](URL) -> 링크\n",
        "![설명란](URL or 이미지파일경로.jpg) -> 이미지 링크\n",
        "```\n",
        "\n",
        "[Google](https://www.google.com)\n",
        "\n",
        "![고양이 그림](수정 필요)\n",
        "\n",
        "##2.5 기타\n",
        "```\n",
        "인라인 코드 : `를 사용\n",
        "코드 블록 : ```를 사용\n",
        "~~취소선~~\n",
        "> 인용문\n",
        ">> 중첩된 인용문\n",
        "--- 구분선\n",
        "```\n",
        "\n",
        "`Amazing code`\n",
        "\n",
        "```\n",
        "Amazing\n",
        "code\n",
        "```\n",
        "> Amazing code\n",
        "\n",
        ">> Amazing code\n",
        "\n",
        "---\n",
        "\n",
        "\n"
      ],
      "metadata": {
        "id": "j5rApy-bH0NM"
      }
    },
    {
      "cell_type": "markdown",
      "source": [
        "#3. 파이썬\n",
        "##3.1 입력(input)과 출력(print)\n",
        "\n",
        "* input : 사용자로부터 키보드 입력을 받음\n",
        "\n",
        "* print : 출력 함수\n"
      ],
      "metadata": {
        "id": "_LdRTgPTJwTO"
      }
    },
    {
      "cell_type": "code",
      "source": [
        "age = input('나이를 입력해주세요.')\n",
        "print(age + age)\n",
        "print('Hello','World', '!')"
      ],
      "metadata": {
        "colab": {
          "base_uri": "https://localhost:8080/"
        },
        "id": "x-C4jgQqw-Kj",
        "outputId": "0617d776-135e-458f-dde7-f230f7587028"
      },
      "execution_count": null,
      "outputs": [
        {
          "output_type": "stream",
          "name": "stdout",
          "text": [
            "나이를 입력해주세요.15\n",
            "1515\n",
            "Hello World !\n"
          ]
        }
      ]
    },
    {
      "cell_type": "markdown",
      "source": [
        "* print(sep = '문자열 사이에 추가')\n",
        "\n",
        "* print(end = '문자열 마지막에 추가')"
      ],
      "metadata": {
        "id": "nN8S3N_wxIDM"
      }
    },
    {
      "cell_type": "code",
      "source": [
        "print('010', '0000', '0000', sep = '-')\n",
        "print('010', '0000', '0000', end = '@')"
      ],
      "metadata": {
        "colab": {
          "base_uri": "https://localhost:8080/"
        },
        "id": "5vO9MKaf-Opq",
        "outputId": "6e1cefba-94c3-488a-9a36-d6521f4b1ca8"
      },
      "execution_count": null,
      "outputs": [
        {
          "output_type": "stream",
          "name": "stdout",
          "text": [
            "010-0000-0000\n",
            "010 0000 0000@"
          ]
        }
      ]
    },
    {
      "cell_type": "markdown",
      "source": [
        "* f-string : 주로 print 안에서 출력할 문자열을 구성하는데 많이 사용\n",
        "\n",
        " -> 중괄호 안에 표현하고 싶은 변수를 넣으면 문자열로 만들어져 출력"
      ],
      "metadata": {
        "id": "zQlhHzDhHMZb"
      }
    },
    {
      "cell_type": "code",
      "source": [
        "name = 'Yeon'\n",
        "age = 27\n",
        "print(f'제 이름은 {name},  제 나이는 {age} 입니다.')"
      ],
      "metadata": {
        "colab": {
          "base_uri": "https://localhost:8080/"
        },
        "id": "_55Glv7eHhlU",
        "outputId": "eb5a21ba-4a3c-46b3-9a5e-4804f4949377"
      },
      "execution_count": null,
      "outputs": [
        {
          "output_type": "stream",
          "name": "stdout",
          "text": [
            "제 이름은 Yeon,  제 나이는 27 입니다.\n"
          ]
        }
      ]
    },
    {
      "cell_type": "markdown",
      "source": [
        "##3.2 변수\n",
        "\n",
        "* 변수는 특정한 값을 가리키는 것\n",
        "\n",
        "* 변수 이름은 알파벳, 숫자, 언더스코어로 구성, 변수 이름은 숫자로 시작 x\n",
        "\n",
        "* 파이썬의 키워드(if, else, while 등)는 변수 이름으로 사용 x\n",
        "\n",
        "* 변수명은 대소문자 구분\n",
        "\n",
        "* 변수의 관습\n",
        " * 일반 변수는 주로 첫 문자를 소문자로 사용\n",
        " * 사용하지 않는 변수는 _가 먼저 나오는 명명(ex _snake)\n",
        " * 클래스는 첫문자를 대문자로 사용함\n",
        " * 변수 이름 띄어쓰기 -> _ 사용(스네이크 표기법)\n",
        "\n",
        "* print(type(변수)) : 클래스 구분\n",
        "\n",
        "* print(dir(변수)) : 변수가 가진 속성과 methond를 확인\n",
        "\n",
        "* del 변수 : 변수를 삭제 (메모리 관리에 유용, 신중하게 사용하기)"
      ],
      "metadata": {
        "id": "idpMIhFnJcVz"
      }
    },
    {
      "cell_type": "code",
      "source": [
        "print(type(123))\n",
        "print(dir(\"pizza\"))\n",
        "\"\"\"\n",
        "x = 10\n",
        "del x\n",
        "--> NameError 발생\n",
        "\"\"\"\n",
        "''"
      ],
      "metadata": {
        "colab": {
          "base_uri": "https://localhost:8080/",
          "height": 93
        },
        "id": "haXLx25IOqBo",
        "outputId": "0894fd5e-654e-4f21-f485-7a31bca06f1a"
      },
      "execution_count": null,
      "outputs": [
        {
          "output_type": "stream",
          "name": "stdout",
          "text": [
            "<class 'int'>\n",
            "['__add__', '__class__', '__contains__', '__delattr__', '__dir__', '__doc__', '__eq__', '__format__', '__ge__', '__getattribute__', '__getitem__', '__getnewargs__', '__gt__', '__hash__', '__init__', '__init_subclass__', '__iter__', '__le__', '__len__', '__lt__', '__mod__', '__mul__', '__ne__', '__new__', '__reduce__', '__reduce_ex__', '__repr__', '__rmod__', '__rmul__', '__setattr__', '__sizeof__', '__str__', '__subclasshook__', 'capitalize', 'casefold', 'center', 'count', 'encode', 'endswith', 'expandtabs', 'find', 'format', 'format_map', 'index', 'isalnum', 'isalpha', 'isascii', 'isdecimal', 'isdigit', 'isidentifier', 'islower', 'isnumeric', 'isprintable', 'isspace', 'istitle', 'isupper', 'join', 'ljust', 'lower', 'lstrip', 'maketrans', 'partition', 'removeprefix', 'removesuffix', 'replace', 'rfind', 'rindex', 'rjust', 'rpartition', 'rsplit', 'rstrip', 'split', 'splitlines', 'startswith', 'strip', 'swapcase', 'title', 'translate', 'upper', 'zfill']\n"
          ]
        },
        {
          "output_type": "execute_result",
          "data": {
            "text/plain": [
              "''"
            ],
            "application/vnd.google.colaboratory.intrinsic+json": {
              "type": "string"
            }
          },
          "metadata": {},
          "execution_count": 7
        }
      ]
    },
    {
      "cell_type": "markdown",
      "source": [
        "##3.3 정수와 실수, 복소수\n",
        "\n",
        "* 정수 int, 실수 float, 복소수 complex('j'로 표현)\n",
        "* inf 와 - int (양과 음의 무한대를 나타내는 상수) -> x = float(\"inf\")\n",
        "* 10의 승수는 e나 E로 표현 가능 ex) 2e3 = 2*10^3\n",
        "* 덧셈 +, 뺄셈 -, 곱셈 *, 나눗셈 / //(소숫점 표시, 나머지 버림)\n",
        "* 2진수(Binary) :숫자 앞에 Ob를 붙임, 변환 함수 bin()\n",
        "* 8진수(Octal) 숫자 앞에 0o를 붙임, 변환 함수 oct()\n",
        "* 16진수(Hexadecimal) 숫자 앞에 0x를 붙임, 변환 함수 hex()\n",
        "* 실수의 부동소수점 문제\n",
        " * 컴퓨터의 2진수로 10진수를 표현하는 방법으론 완벽히 표현 불가능\n",
        " * 'decimal'을 사용하여 좀 더 정확한 연산 가능"
      ],
      "metadata": {
        "id": "uPqI24K6P8hl"
      }
    },
    {
      "cell_type": "code",
      "source": [
        "print(0.1 + 0.2)\n",
        "print(10.1 + 10.2)\n",
        "\n",
        "import decimal\n",
        "\n",
        "float(decimal.Decimal('.1')+ decimal.Decimal('.2'))"
      ],
      "metadata": {
        "colab": {
          "base_uri": "https://localhost:8080/"
        },
        "id": "9ptOm8PXSILp",
        "outputId": "89abcb33-5b36-4e3e-e16c-2d7174712764"
      },
      "execution_count": null,
      "outputs": [
        {
          "output_type": "stream",
          "name": "stdout",
          "text": [
            "0.30000000000000004\n",
            "20.299999999999997\n"
          ]
        },
        {
          "output_type": "execute_result",
          "data": {
            "text/plain": [
              "0.3"
            ]
          },
          "metadata": {},
          "execution_count": 9
        }
      ]
    },
    {
      "cell_type": "markdown",
      "source": [
        "##3.3 문자열 자료형\n",
        "* 문자열 자료형 : 하나의 문자가 아닌, 여러 문자가 나열된 형태를 나타냄\n",
        "* 문자열끼리 덧셈과 곱셈 연산이 가능 (문자열끼리 이어지거나 여러 번 반복)\n",
        "* 문자열 슬라이싱\n",
        " * 인덱스(index) : 문자열에서 각 문자의 순서, 0부터 순서가 시작하며 마지막은 -1\n",
        " * 공백, 특수문자도 문자열에 포함됨\n",
        " * s[start:stop;step] : (슬라이싱 시작, 슬라이싱 종료, 슬라이싱 간격)\n",
        " * stop의 인덱스는 포함되지 않는다\n",
        " * step의 인덱스가 음수이면 역순이다\n",
        " * 슬라이싱은 범위가 넘어가더라고 오류 x (안정적인 코딩 가능)"
      ],
      "metadata": {
        "id": "RP6MOJ39Tbgo"
      }
    },
    {
      "cell_type": "code",
      "source": [
        "s = 'Professional coding master'\n",
        "print(s[0:5])\n",
        "print(s[6:])\n",
        "print(s[:])\n",
        "print(s[::2])\n",
        "print(s[::-1])"
      ],
      "metadata": {
        "colab": {
          "base_uri": "https://localhost:8080/"
        },
        "id": "3AF4XE-eVIEF",
        "outputId": "e935845c-0033-4e10-d55b-5960b2fbc907"
      },
      "execution_count": null,
      "outputs": [
        {
          "output_type": "stream",
          "name": "stdout",
          "text": [
            "Profe\n",
            "sional coding master\n",
            "Professional coding master\n",
            "Poesoa oigmse\n",
            "retsam gnidoc lanoisseforP\n"
          ]
        }
      ]
    }
  ]
}